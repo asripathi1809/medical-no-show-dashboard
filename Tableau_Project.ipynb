#What this code does: This Python script cleans and preprocesses a hospital appointment dataset, handles missing values, corrects data types, and engineers new features such as scheduled and appointment hour, weekday, and month. These processed features were then used to build an interactive Tableau dashboard. 
#Why I chose Python: I chose Python for data cleaning and feature engineering due to its readability, efficiency, and the fact that I'm very comfortable with the programming language, Additionally, it integrates well with Tableau, which helps when preparing datasets for visualization.  
#How the Tableau Dashboard helps: The dashboard provides the audience visual insights into the real-world problem of hospital appointment no shows in Brazil. It allows them to explore factors relating to no-shows such as a patient's gender, age, neighborhood, and appointment timing and hhow they relate to patients not showing up to their appointments. This dashboard aims to help healthcare staff identify patterns adds a visual sight to the real world problem of hospital no-shows, collecting insights on people who miss their appointments, as well as their age, demographics, and other factors indicating to why they may have missed their appointments. This can help healthcare staff identify patterns and make data-driven decisions on how to reduce no-shows.  
 
import pandas as pd
from google.colab import files

#I manually uploaded my file onto google colab so I could do the data analysis
uploaded = files.upload()
df = pd.read_csv('KaggleV2-May-2016.csv')
print('The shape of this dataset is {}'.format(df.shape)) #This gets us the rows and columns that are in the dataset
df.info() # This gives information about the column names and their data types
df.head() # This prints out the first 5 rows of the dataset

#Here, we are going to start cleaning the data that we will then convert into another csv to put into Tableau and make a dashboard from it!
df['ScheduledDay'] = pd.to_datetime(df['ScheduledDay']).dt.date.astype('datetime64[ns]') #changes date to YYYY-MM-DD
df['AppointmentDay'] = pd.to_datetime(df['AppointmentDay']).dt.date.astype('datetime64[ns]') #changes date to YYYY-MM-DD
df['Age'] = df['Age'].astype('int64') #converts it to a whole number integer

#I renamed the columns because I wanted it to be more organized for the analysis
df = df.rename(columns={'Hipertension': 'Hypertension', 'Handcap': 'Handicap', 'SMS_Received': 'SMSReceived'})

print(df.columns) #prints out the different columns in the dataset
df.info() #prints out the information about the columns (such as their data types)
df.head() #prints out the first 5 rows of the dataset

#extract day names instead of scheduled and appointment days
df['ScheduledDayOfTheWeek'] = df['ScheduledDay'].dt.day_name()
df['AppointmentDayOfTheWeek'] = df['AppointmentDay'].dt.day_name()

#calculate waiting time in days
df['WaitingTimeDays'] = (df['AppointmentDay'] - df['ScheduledDay']).dt.days
df.sample(n=8)

df['Scholarship'] =  df['Scholarship'].astype('object')
df['Hypertension'] = df['Hypertension'].astype('object')
df['Diabetes'] = df['Diabetes'].astype('object')
df['Alcholism'] = df['Alcoholism'].astype('object')
df['Handicap'] = df['Handicap'].astype('object')
df['SMS_received'] = df['SMS_received'].astype('object')

df.info()

#I changed the columns above to be categorical variables so I could encode them later for my Tableau visuals
#df.info() again displays the column names and their data types

print(df.isnull().sum()) #checks each column to see if there are any null values

categorical_variables = ['Gender', 'Scholarship', 'Hypertension', 'Diabetes', 'Handicap', 'SMS_received', 'No-show', 'ScheduledDayofTheWeek', 'AppointmentDayOfTheWeek']
from sklearn.preprocessing import LabelEncoder
label_encoder = LabelEncoder()

for column in ['SMS_received', 'No-show', 'Hypertension', 'Diabetes', 'Alcoholism', 'Handicap']:
    df[column] = label_encoder.fit_transform(df[column])

df = pd.get_dummies(df, columns=['Gender', 'ScheduledDayOfTheWeek', 'AppointmentDayOfTheWeek', 'Neighbourhood', 'Scholarship'], drop_first=True)

#I label encoded and one hot encoded the categorical variables in order to prepare them for machine learning models that need numerical input to train and test properly

print(df.isnull().sum()) #checks for null/missing values in the originial + newly engineered columns

#I changed the data types of these variables to be integers so it could be useful for the model and tableau visuals
df['Age'] = df['Age'].astype('int64')
df['WaitingTimeDays'] = df['WaitingTimeDays'].astype('int64')
df.info() #gives info about the column names and their data types

df.drop(columns=['Alcholism'], inplace=True) #dropped this column since it was not relevant

#developed a decision tree model with a train/test of 80/20, an accuracy score, classification report, and confusion
from sklearn.model_selection import train_test_split, cross_val_score
from sklearn.tree import DecisionTreeClassifier
from sklearn.metrics import accuracy_score, classification_report, confusion_matrix

# Convert 'ScheduledDay' and 'AppointmentDay' to datetime
df['ScheduledDay'] = pd.to_datetime(df['ScheduledDay'])
df['AppointmentDay'] = pd.to_datetime(df['AppointmentDay'])

# Extract features like weekday, hour, month (these are the new features that I engineered out of the original columns to further help me with data analysis and visualization)
df['ScheduledWeekday'] = df['ScheduledDay'].dt.weekday
df['ScheduledHour'] = df['ScheduledDay'].dt.hour
df['ScheduledMonth'] = df['ScheduledDay'].dt.month

df['AppointmentWeekday'] = df['AppointmentDay'].dt.weekday
df['AppointmentHour'] = df['AppointmentDay'].dt.hour
df['AppointmentMonth'] = df['AppointmentDay'].dt.month

# Drop original datetime columns after feature engineering
df.drop(columns=['ScheduledDay', 'AppointmentDay'], inplace=True)

# Verify that all columns are numeric
print(df.dtypes)

#decision tree model to predict whether a patient will show up or not
X = df.drop(columns=['No-show'])
y = df['No-show']
X_train, X_test, y_train, y_test = train_test_split(X, y, test_size=0.2, random_state=42)
model = DecisionTreeClassifier()
model.fit(X_train, y_train)
y_pred = model.predict(X_test)
importances = model.feature_importances_

#I made a feature importance list so that I can pinpoint the top factors of no-shows
feature_importance = pd.DataFrame({'Feature': X.columns, 'Importance': importances})
feature_importance = feature_importance.sort_values(by='Importance', ascending=False)
print(feature_importance)

#model's accuracy, classification report, cross validation scores, and confusion matrix
accuracy = accuracy_score(y_test, y_pred)
print(f"Accuracy: {accuracy}")
print(classification_report(y_test, y_pred))
print(confusion_matrix(y_test, y_pred))
scores = cross_val_score(model, X, y, cv=5)
print(f"Cross-validation scores: {scores}")
print(f"Mean cross-validation score: {scores.mean()}")

import matplotlib.pyplot as plt

#this is a bar chart of all the top predictors of why a patient would miss their appointment
plt.figure(figsize=(10, 6))
plt.bar(feature_importance['Feature'], feature_importance['Importance'])
plt.xlabel('Features')
plt.ylabel('Importance')
plt.title('Feature Importance in Decision Tree Model')
plt.show()

#this is a scatter plot of waiting time vs a person's age
plt.figure(figsize=(8, 8))
plt.scatter(df['Age'], df['WaitingTimeDays'])
plt.xlabel('Age')
plt.ylabel('Waiting Time (Days)')
plt.title('Age vs. Waiting Time')
plt.show()

#put the dataset into a csv and downloaded it so I could export it to Tableau and draft insights using visuals!
df.to_csv('cleaned_mednoshow_data.csv', index=False)
files.download('cleaned_mednoshow_data.csv')
